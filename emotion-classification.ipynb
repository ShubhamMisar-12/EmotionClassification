{
 "cells": [
  {
   "cell_type": "code",
   "execution_count": 1,
   "id": "93a7f37e",
   "metadata": {
    "_cell_guid": "b1076dfc-b9ad-4769-8c92-a6c4dae69d19",
    "_uuid": "8f2839f25d086af736a60e9eeb907d3b93b6e0e5",
    "execution": {
     "iopub.execute_input": "2023-06-22T18:06:30.342844Z",
     "iopub.status.busy": "2023-06-22T18:06:30.342459Z",
     "iopub.status.idle": "2023-06-22T18:06:30.360787Z",
     "shell.execute_reply": "2023-06-22T18:06:30.360015Z"
    },
    "papermill": {
     "duration": 0.030145,
     "end_time": "2023-06-22T18:06:30.363107",
     "exception": false,
     "start_time": "2023-06-22T18:06:30.332962",
     "status": "completed"
    },
    "tags": []
   },
   "outputs": [
    {
     "name": "stdout",
     "output_type": "stream",
     "text": [
      "/kaggle/input/emotion-classification-nlp/emotion-labels-train.csv\n",
      "/kaggle/input/emotion-classification-nlp/emotion-labels-val.csv\n",
      "/kaggle/input/emotion-classification-nlp/emotion-labels-test.csv\n"
     ]
    }
   ],
   "source": [
    "# This Python 3 environment comes with many helpful analytics libraries installed\n",
    "# It is defined by the kaggle/python Docker image: https://github.com/kaggle/docker-python\n",
    "# For example, here's several helpful packages to load\n",
    "\n",
    "import numpy as np # linear algebra\n",
    "import pandas as pd # data processing, CSV file I/O (e.g. pd.read_csv)\n",
    "\n",
    "# Input data files are available in the read-only \"../input/\" directory\n",
    "# For example, running this (by clicking run or pressing Shift+Enter) will list all files under the input directory\n",
    "\n",
    "import os\n",
    "for dirname, _, filenames in os.walk('/kaggle/input'):\n",
    "    for filename in filenames:\n",
    "        print(os.path.join(dirname, filename))\n",
    "\n",
    "# You can write up to 20GB to the current directory (/kaggle/working/) that gets preserved as output when you create a version using \"Save & Run All\" \n",
    "# You can also write temporary files to /kaggle/temp/, but they won't be saved outside of the current session"
   ]
  },
  {
   "cell_type": "code",
   "execution_count": 2,
   "id": "572cef64",
   "metadata": {
    "execution": {
     "iopub.execute_input": "2023-06-22T18:06:30.379502Z",
     "iopub.status.busy": "2023-06-22T18:06:30.378744Z",
     "iopub.status.idle": "2023-06-22T18:06:30.447550Z",
     "shell.execute_reply": "2023-06-22T18:06:30.446596Z"
    },
    "papermill": {
     "duration": 0.079784,
     "end_time": "2023-06-22T18:06:30.450219",
     "exception": false,
     "start_time": "2023-06-22T18:06:30.370435",
     "status": "completed"
    },
    "tags": []
   },
   "outputs": [],
   "source": [
    "df_train = pd.read_csv('/kaggle/input/emotion-classification-nlp/emotion-labels-train.csv')\n",
    "df_val = pd.read_csv('/kaggle/input/emotion-classification-nlp/emotion-labels-val.csv')\n",
    "df_test = pd.read_csv('/kaggle/input/emotion-classification-nlp/emotion-labels-test.csv')"
   ]
  },
  {
   "cell_type": "code",
   "execution_count": 3,
   "id": "6f445638",
   "metadata": {
    "execution": {
     "iopub.execute_input": "2023-06-22T18:06:30.466899Z",
     "iopub.status.busy": "2023-06-22T18:06:30.466545Z",
     "iopub.status.idle": "2023-06-22T18:06:30.499119Z",
     "shell.execute_reply": "2023-06-22T18:06:30.497906Z"
    },
    "papermill": {
     "duration": 0.044021,
     "end_time": "2023-06-22T18:06:30.501649",
     "exception": false,
     "start_time": "2023-06-22T18:06:30.457628",
     "status": "completed"
    },
    "tags": []
   },
   "outputs": [
    {
     "data": {
      "text/html": [
       "<div>\n",
       "<style scoped>\n",
       "    .dataframe tbody tr th:only-of-type {\n",
       "        vertical-align: middle;\n",
       "    }\n",
       "\n",
       "    .dataframe tbody tr th {\n",
       "        vertical-align: top;\n",
       "    }\n",
       "\n",
       "    .dataframe thead th {\n",
       "        text-align: right;\n",
       "    }\n",
       "</style>\n",
       "<table border=\"1\" class=\"dataframe\">\n",
       "  <thead>\n",
       "    <tr style=\"text-align: right;\">\n",
       "      <th></th>\n",
       "      <th>text</th>\n",
       "      <th>label</th>\n",
       "    </tr>\n",
       "  </thead>\n",
       "  <tbody>\n",
       "    <tr>\n",
       "      <th>0</th>\n",
       "      <td>Just got back from seeing @GaryDelaney in Burs...</td>\n",
       "      <td>joy</td>\n",
       "    </tr>\n",
       "    <tr>\n",
       "      <th>1</th>\n",
       "      <td>Oh dear an evening of absolute hilarity I don'...</td>\n",
       "      <td>joy</td>\n",
       "    </tr>\n",
       "    <tr>\n",
       "      <th>2</th>\n",
       "      <td>Been waiting all week for this game ❤️❤️❤️ #ch...</td>\n",
       "      <td>joy</td>\n",
       "    </tr>\n",
       "    <tr>\n",
       "      <th>3</th>\n",
       "      <td>@gardiner_love : Thank you so much, Gloria! Yo...</td>\n",
       "      <td>joy</td>\n",
       "    </tr>\n",
       "    <tr>\n",
       "      <th>4</th>\n",
       "      <td>I feel so blessed to work with the family that...</td>\n",
       "      <td>joy</td>\n",
       "    </tr>\n",
       "    <tr>\n",
       "      <th>...</th>\n",
       "      <td>...</td>\n",
       "      <td>...</td>\n",
       "    </tr>\n",
       "    <tr>\n",
       "      <th>3608</th>\n",
       "      <td>@VivienLloyd Thank you so much! Just home - st...</td>\n",
       "      <td>sadness</td>\n",
       "    </tr>\n",
       "    <tr>\n",
       "      <th>3609</th>\n",
       "      <td>Just put the winter duvet on ☃️❄️🌬☔️</td>\n",
       "      <td>sadness</td>\n",
       "    </tr>\n",
       "    <tr>\n",
       "      <th>3610</th>\n",
       "      <td>@SilkInSide @TommyJoeRatliff that's so pretty!...</td>\n",
       "      <td>sadness</td>\n",
       "    </tr>\n",
       "    <tr>\n",
       "      <th>3611</th>\n",
       "      <td>@BluesfestByron second artist announcement loo...</td>\n",
       "      <td>sadness</td>\n",
       "    </tr>\n",
       "    <tr>\n",
       "      <th>3612</th>\n",
       "      <td>I can literally eat creamy pesto pasta topped ...</td>\n",
       "      <td>sadness</td>\n",
       "    </tr>\n",
       "  </tbody>\n",
       "</table>\n",
       "<p>3613 rows × 2 columns</p>\n",
       "</div>"
      ],
      "text/plain": [
       "                                                   text    label\n",
       "0     Just got back from seeing @GaryDelaney in Burs...      joy\n",
       "1     Oh dear an evening of absolute hilarity I don'...      joy\n",
       "2     Been waiting all week for this game ❤️❤️❤️ #ch...      joy\n",
       "3     @gardiner_love : Thank you so much, Gloria! Yo...      joy\n",
       "4     I feel so blessed to work with the family that...      joy\n",
       "...                                                 ...      ...\n",
       "3608  @VivienLloyd Thank you so much! Just home - st...  sadness\n",
       "3609              Just put the winter duvet on ☃️❄️🌬☔️   sadness\n",
       "3610  @SilkInSide @TommyJoeRatliff that's so pretty!...  sadness\n",
       "3611  @BluesfestByron second artist announcement loo...  sadness\n",
       "3612  I can literally eat creamy pesto pasta topped ...  sadness\n",
       "\n",
       "[3613 rows x 2 columns]"
      ]
     },
     "execution_count": 3,
     "metadata": {},
     "output_type": "execute_result"
    }
   ],
   "source": [
    "df_train"
   ]
  },
  {
   "cell_type": "code",
   "execution_count": 4,
   "id": "8e6a3260",
   "metadata": {
    "execution": {
     "iopub.execute_input": "2023-06-22T18:06:30.520026Z",
     "iopub.status.busy": "2023-06-22T18:06:30.518883Z",
     "iopub.status.idle": "2023-06-22T18:06:31.877794Z",
     "shell.execute_reply": "2023-06-22T18:06:31.876838Z"
    },
    "papermill": {
     "duration": 1.370591,
     "end_time": "2023-06-22T18:06:31.880420",
     "exception": false,
     "start_time": "2023-06-22T18:06:30.509829",
     "status": "completed"
    },
    "tags": []
   },
   "outputs": [],
   "source": [
    "import matplotlib.pyplot as plt\n",
    "import seaborn as sns"
   ]
  },
  {
   "cell_type": "code",
   "execution_count": 5,
   "id": "1c12679d",
   "metadata": {
    "execution": {
     "iopub.execute_input": "2023-06-22T18:06:31.898791Z",
     "iopub.status.busy": "2023-06-22T18:06:31.898424Z",
     "iopub.status.idle": "2023-06-22T18:06:32.271281Z",
     "shell.execute_reply": "2023-06-22T18:06:32.270400Z"
    },
    "papermill": {
     "duration": 0.385671,
     "end_time": "2023-06-22T18:06:32.273800",
     "exception": false,
     "start_time": "2023-06-22T18:06:31.888129",
     "status": "completed"
    },
    "tags": []
   },
   "outputs": [
    {
     "data": {
      "image/png": "[encoded data removed]",
      "text/plain": [
       "<Figure size 640x480 with 1 Axes>"
      ]
     },
     "metadata": {},
     "output_type": "display_data"
    }
   ],
   "source": [
    "df_train['label'].value_counts().plot(kind = 'bar')\n",
    "plt.tight_layout()\n",
    "plt.xticks(rotation = 45)\n",
    "plt.show()"
   ]
  },
  {
   "cell_type": "markdown",
   "id": "e0d6c559",
   "metadata": {
    "papermill": {
     "duration": 0.007674,
     "end_time": "2023-06-22T18:06:32.289833",
     "exception": false,
     "start_time": "2023-06-22T18:06:32.282159",
     "status": "completed"
    },
    "tags": []
   },
   "source": [
    "## Data Cleaning"
   ]
  },
  {
   "cell_type": "code",
   "execution_count": 6,
   "id": "411631be",
   "metadata": {
    "execution": {
     "iopub.execute_input": "2023-06-22T18:06:32.307696Z",
     "iopub.status.busy": "2023-06-22T18:06:32.307308Z",
     "iopub.status.idle": "2023-06-22T18:06:32.315129Z",
     "shell.execute_reply": "2023-06-22T18:06:32.314353Z"
    },
    "papermill": {
     "duration": 0.019074,
     "end_time": "2023-06-22T18:06:32.317055",
     "exception": false,
     "start_time": "2023-06-22T18:06:32.297981",
     "status": "completed"
    },
    "tags": []
   },
   "outputs": [
    {
     "data": {
      "text/plain": [
       "0       Just got back from seeing @GaryDelaney in Burs...\n",
       "1       Oh dear an evening of absolute hilarity I don'...\n",
       "2       Been waiting all week for this game ❤️❤️❤️ #ch...\n",
       "3       @gardiner_love : Thank you so much, Gloria! Yo...\n",
       "4       I feel so blessed to work with the family that...\n",
       "                              ...                        \n",
       "3608    @VivienLloyd Thank you so much! Just home - st...\n",
       "3609                Just put the winter duvet on ☃️❄️🌬☔️ \n",
       "3610    @SilkInSide @TommyJoeRatliff that's so pretty!...\n",
       "3611    @BluesfestByron second artist announcement loo...\n",
       "3612    I can literally eat creamy pesto pasta topped ...\n",
       "Name: text, Length: 3613, dtype: object"
      ]
     },
     "execution_count": 6,
     "metadata": {},
     "output_type": "execute_result"
    }
   ],
   "source": [
    "df_train['text']"
   ]
  },
  {
   "cell_type": "markdown",
   "id": "b8958e3e",
   "metadata": {
    "papermill": {
     "duration": 0.008359,
     "end_time": "2023-06-22T18:06:32.333823",
     "exception": false,
     "start_time": "2023-06-22T18:06:32.325464",
     "status": "completed"
    },
    "tags": []
   },
   "source": [
    "### Removing Username Handles"
   ]
  },
  {
   "cell_type": "code",
   "execution_count": 7,
   "id": "bc1b0fe4",
   "metadata": {
    "execution": {
     "iopub.execute_input": "2023-06-22T18:06:32.352101Z",
     "iopub.status.busy": "2023-06-22T18:06:32.351697Z",
     "iopub.status.idle": "2023-06-22T18:06:32.356728Z",
     "shell.execute_reply": "2023-06-22T18:06:32.355573Z"
    },
    "papermill": {
     "duration": 0.016787,
     "end_time": "2023-06-22T18:06:32.358997",
     "exception": false,
     "start_time": "2023-06-22T18:06:32.342210",
     "status": "completed"
    },
    "tags": []
   },
   "outputs": [],
   "source": [
    "import re"
   ]
  },
  {
   "cell_type": "code",
   "execution_count": 8,
   "id": "87e7858f",
   "metadata": {
    "execution": {
     "iopub.execute_input": "2023-06-22T18:06:32.377767Z",
     "iopub.status.busy": "2023-06-22T18:06:32.377426Z",
     "iopub.status.idle": "2023-06-22T18:06:32.384107Z",
     "shell.execute_reply": "2023-06-22T18:06:32.383197Z"
    },
    "papermill": {
     "duration": 0.01845,
     "end_time": "2023-06-22T18:06:32.386159",
     "exception": false,
     "start_time": "2023-06-22T18:06:32.367709",
     "status": "completed"
    },
    "tags": []
   },
   "outputs": [
    {
     "data": {
      "text/plain": [
       "'Just got back from seeing @GaryDelaney in Burslem. AMAZING!! Face still hurts from laughing so much #hilarious'"
      ]
     },
     "execution_count": 8,
     "metadata": {},
     "output_type": "execute_result"
    }
   ],
   "source": [
    "text = df_train['text'][0]\n",
    "text"
   ]
  },
  {
   "cell_type": "code",
   "execution_count": 9,
   "id": "59f61e3e",
   "metadata": {
    "execution": {
     "iopub.execute_input": "2023-06-22T18:06:32.405427Z",
     "iopub.status.busy": "2023-06-22T18:06:32.404795Z",
     "iopub.status.idle": "2023-06-22T18:06:32.409500Z",
     "shell.execute_reply": "2023-06-22T18:06:32.408679Z"
    },
    "papermill": {
     "duration": 0.016865,
     "end_time": "2023-06-22T18:06:32.411626",
     "exception": false,
     "start_time": "2023-06-22T18:06:32.394761",
     "status": "completed"
    },
    "tags": []
   },
   "outputs": [],
   "source": [
    "def remove_handle(text):\n",
    "    string = re.sub(r\"@\\w+\",' ', text)\n",
    "    return string"
   ]
  },
  {
   "cell_type": "code",
   "execution_count": 10,
   "id": "8a4f6172",
   "metadata": {
    "execution": {
     "iopub.execute_input": "2023-06-22T18:06:32.431009Z",
     "iopub.status.busy": "2023-06-22T18:06:32.430405Z",
     "iopub.status.idle": "2023-06-22T18:06:32.436837Z",
     "shell.execute_reply": "2023-06-22T18:06:32.435883Z"
    },
    "papermill": {
     "duration": 0.018624,
     "end_time": "2023-06-22T18:06:32.438791",
     "exception": false,
     "start_time": "2023-06-22T18:06:32.420167",
     "status": "completed"
    },
    "tags": []
   },
   "outputs": [
    {
     "data": {
      "text/plain": [
       "'Just got back from seeing   in Burslem. AMAZING!! Face still hurts from laughing so much #hilarious'"
      ]
     },
     "execution_count": 10,
     "metadata": {},
     "output_type": "execute_result"
    }
   ],
   "source": [
    "remove_handle(text)"
   ]
  },
  {
   "cell_type": "markdown",
   "id": "067f6c44",
   "metadata": {
    "papermill": {
     "duration": 0.008339,
     "end_time": "2023-06-22T18:06:32.455457",
     "exception": false,
     "start_time": "2023-06-22T18:06:32.447118",
     "status": "completed"
    },
    "tags": []
   },
   "source": [
    "### Removing \\# Marks"
   ]
  },
  {
   "cell_type": "code",
   "execution_count": 11,
   "id": "ea6006d0",
   "metadata": {
    "execution": {
     "iopub.execute_input": "2023-06-22T18:06:32.474433Z",
     "iopub.status.busy": "2023-06-22T18:06:32.473800Z",
     "iopub.status.idle": "2023-06-22T18:06:32.479933Z",
     "shell.execute_reply": "2023-06-22T18:06:32.479112Z"
    },
    "papermill": {
     "duration": 0.018032,
     "end_time": "2023-06-22T18:06:32.482028",
     "exception": false,
     "start_time": "2023-06-22T18:06:32.463996",
     "status": "completed"
    },
    "tags": []
   },
   "outputs": [
    {
     "data": {
      "text/plain": [
       "'Just got back from seeing @GaryDelaney in Burslem. AMAZING!! Face still hurts from laughing so much #hilarious'"
      ]
     },
     "execution_count": 11,
     "metadata": {},
     "output_type": "execute_result"
    }
   ],
   "source": [
    "text = df_train['text'][0]\n",
    "text"
   ]
  },
  {
   "cell_type": "code",
   "execution_count": 12,
   "id": "06fcb6f6",
   "metadata": {
    "execution": {
     "iopub.execute_input": "2023-06-22T18:06:32.501277Z",
     "iopub.status.busy": "2023-06-22T18:06:32.500692Z",
     "iopub.status.idle": "2023-06-22T18:06:32.505353Z",
     "shell.execute_reply": "2023-06-22T18:06:32.504622Z"
    },
    "papermill": {
     "duration": 0.016629,
     "end_time": "2023-06-22T18:06:32.507456",
     "exception": false,
     "start_time": "2023-06-22T18:06:32.490827",
     "status": "completed"
    },
    "tags": []
   },
   "outputs": [],
   "source": [
    "def remove_hashtag(text):\n",
    "    return re.sub(r' #',', ',text)"
   ]
  },
  {
   "cell_type": "code",
   "execution_count": 13,
   "id": "fb1b365a",
   "metadata": {
    "execution": {
     "iopub.execute_input": "2023-06-22T18:06:32.526774Z",
     "iopub.status.busy": "2023-06-22T18:06:32.526131Z",
     "iopub.status.idle": "2023-06-22T18:06:32.532486Z",
     "shell.execute_reply": "2023-06-22T18:06:32.531560Z"
    },
    "papermill": {
     "duration": 0.018232,
     "end_time": "2023-06-22T18:06:32.534450",
     "exception": false,
     "start_time": "2023-06-22T18:06:32.516218",
     "status": "completed"
    },
    "tags": []
   },
   "outputs": [
    {
     "data": {
      "text/plain": [
       "'Just got back from seeing @GaryDelaney in Burslem. AMAZING!! Face still hurts from laughing so much, hilarious'"
      ]
     },
     "execution_count": 13,
     "metadata": {},
     "output_type": "execute_result"
    }
   ],
   "source": [
    "remove_hashtag(text)"
   ]
  },
  {
   "cell_type": "markdown",
   "id": "904a9bcf",
   "metadata": {
    "papermill": {
     "duration": 0.008831,
     "end_time": "2023-06-22T18:06:32.551947",
     "exception": false,
     "start_time": "2023-06-22T18:06:32.543116",
     "status": "completed"
    },
    "tags": []
   },
   "source": [
    "### Parsing Emojis to their meaning | ♥ -> Heart"
   ]
  },
  {
   "cell_type": "code",
   "execution_count": 14,
   "id": "d96cdf85",
   "metadata": {
    "execution": {
     "iopub.execute_input": "2023-06-22T18:06:32.572165Z",
     "iopub.status.busy": "2023-06-22T18:06:32.571533Z",
     "iopub.status.idle": "2023-06-22T18:06:32.624838Z",
     "shell.execute_reply": "2023-06-22T18:06:32.623906Z"
    },
    "papermill": {
     "duration": 0.066475,
     "end_time": "2023-06-22T18:06:32.627594",
     "exception": false,
     "start_time": "2023-06-22T18:06:32.561119",
     "status": "completed"
    },
    "tags": []
   },
   "outputs": [],
   "source": [
    "import emoji"
   ]
  },
  {
   "cell_type": "code",
   "execution_count": 15,
   "id": "0684aca5",
   "metadata": {
    "execution": {
     "iopub.execute_input": "2023-06-22T18:06:32.647355Z",
     "iopub.status.busy": "2023-06-22T18:06:32.646992Z",
     "iopub.status.idle": "2023-06-22T18:06:32.651837Z",
     "shell.execute_reply": "2023-06-22T18:06:32.650722Z"
    },
    "papermill": {
     "duration": 0.017212,
     "end_time": "2023-06-22T18:06:32.654038",
     "exception": false,
     "start_time": "2023-06-22T18:06:32.636826",
     "status": "completed"
    },
    "tags": []
   },
   "outputs": [],
   "source": [
    "text = df_train['text'][2]"
   ]
  },
  {
   "cell_type": "code",
   "execution_count": 16,
   "id": "e81a8048",
   "metadata": {
    "execution": {
     "iopub.execute_input": "2023-06-22T18:06:32.674219Z",
     "iopub.status.busy": "2023-06-22T18:06:32.673621Z",
     "iopub.status.idle": "2023-06-22T18:06:32.678017Z",
     "shell.execute_reply": "2023-06-22T18:06:32.677349Z"
    },
    "papermill": {
     "duration": 0.016784,
     "end_time": "2023-06-22T18:06:32.680048",
     "exception": false,
     "start_time": "2023-06-22T18:06:32.663264",
     "status": "completed"
    },
    "tags": []
   },
   "outputs": [],
   "source": [
    "def parse_emoji(text):\n",
    "    return emoji.demojize(text)"
   ]
  },
  {
   "cell_type": "code",
   "execution_count": 17,
   "id": "2bf4a937",
   "metadata": {
    "execution": {
     "iopub.execute_input": "2023-06-22T18:06:32.699904Z",
     "iopub.status.busy": "2023-06-22T18:06:32.699246Z",
     "iopub.status.idle": "2023-06-22T18:06:32.717136Z",
     "shell.execute_reply": "2023-06-22T18:06:32.716001Z"
    },
    "papermill": {
     "duration": 0.030502,
     "end_time": "2023-06-22T18:06:32.719280",
     "exception": false,
     "start_time": "2023-06-22T18:06:32.688778",
     "status": "completed"
    },
    "tags": []
   },
   "outputs": [
    {
     "data": {
      "text/plain": [
       "'Been waiting all week for this game :red_heart::red_heart::red_heart: #cheer #friday :red_heart:'"
      ]
     },
     "execution_count": 17,
     "metadata": {},
     "output_type": "execute_result"
    }
   ],
   "source": [
    "parse_emoji(text)"
   ]
  },
  {
   "cell_type": "code",
   "execution_count": 18,
   "id": "4c7a6746",
   "metadata": {
    "execution": {
     "iopub.execute_input": "2023-06-22T18:06:32.738967Z",
     "iopub.status.busy": "2023-06-22T18:06:32.738361Z",
     "iopub.status.idle": "2023-06-22T18:06:33.410355Z",
     "shell.execute_reply": "2023-06-22T18:06:33.409258Z"
    },
    "papermill": {
     "duration": 0.684993,
     "end_time": "2023-06-22T18:06:33.413098",
     "exception": false,
     "start_time": "2023-06-22T18:06:32.728105",
     "status": "completed"
    },
    "tags": []
   },
   "outputs": [],
   "source": [
    "df_train['text'] = df_train['text'].apply(remove_handle)\n",
    "df_train['text'] = df_train['text'].apply(remove_hashtag)\n",
    "df_train['text'] = df_train['text'].apply(parse_emoji)"
   ]
  },
  {
   "cell_type": "code",
   "execution_count": 19,
   "id": "2d979f51",
   "metadata": {
    "execution": {
     "iopub.execute_input": "2023-06-22T18:06:33.432974Z",
     "iopub.status.busy": "2023-06-22T18:06:33.432574Z",
     "iopub.status.idle": "2023-06-22T18:06:33.441033Z",
     "shell.execute_reply": "2023-06-22T18:06:33.440123Z"
    },
    "papermill": {
     "duration": 0.021121,
     "end_time": "2023-06-22T18:06:33.443200",
     "exception": false,
     "start_time": "2023-06-22T18:06:33.422079",
     "status": "completed"
    },
    "tags": []
   },
   "outputs": [
    {
     "data": {
      "text/plain": [
       "0       Just got back from seeing   in Burslem. AMAZIN...\n",
       "1       Oh dear an evening of absolute hilarity I don'...\n",
       "2       Been waiting all week for this game :red_heart...\n",
       "3         : Thank you so much, Gloria! You're so sweet...\n",
       "4       I feel so blessed to work with the family that...\n",
       "                              ...                        \n",
       "3608      Thank you so much! Just home - stunned but s...\n",
       "3609    Just put the winter duvet on :snowman::snowfla...\n",
       "3610        that's so pretty! I love the sky in the ba...\n",
       "3611      second artist announcement looking good, blu...\n",
       "3612    I can literally eat creamy pesto pasta topped ...\n",
       "Name: text, Length: 3613, dtype: object"
      ]
     },
     "execution_count": 19,
     "metadata": {},
     "output_type": "execute_result"
    }
   ],
   "source": [
    "df_train['text']"
   ]
  },
  {
   "cell_type": "markdown",
   "id": "35978fc1",
   "metadata": {
    "papermill": {
     "duration": 0.009049,
     "end_time": "2023-06-22T18:06:33.461863",
     "exception": false,
     "start_time": "2023-06-22T18:06:33.452814",
     "status": "completed"
    },
    "tags": []
   },
   "source": [
    "## Text PreProcessing"
   ]
  },
  {
   "cell_type": "code",
   "execution_count": null,
   "id": "a9ca261e",
   "metadata": {
    "papermill": {
     "duration": 0.009074,
     "end_time": "2023-06-22T18:06:33.479953",
     "exception": false,
     "start_time": "2023-06-22T18:06:33.470879",
     "status": "completed"
    },
    "tags": []
   },
   "outputs": [],
   "source": []
  }
 ],
 "metadata": {
  "kernelspec": {
   "display_name": "Python 3",
   "language": "python",
   "name": "python3"
  },
  "language_info": {
   "codemirror_mode": {
    "name": "ipython",
    "version": 3
   },
   "file_extension": ".py",
   "mimetype": "text/x-python",
   "name": "python",
   "nbconvert_exporter": "python",
   "pygments_lexer": "ipython3",
   "version": "3.10.10"
  },
  "papermill": {
   "default_parameters": {},
   "duration": 17.587839,
   "end_time": "2023-06-22T18:06:36.766586",
   "environment_variables": {},
   "exception": null,
   "input_path": "__notebook__.ipynb",
   "output_path": "__notebook__.ipynb",
   "parameters": {},
   "start_time": "2023-06-22T18:06:19.178747",
   "version": "2.4.0"
  }
 },
 "nbformat": 4,
 "nbformat_minor": 5
}
